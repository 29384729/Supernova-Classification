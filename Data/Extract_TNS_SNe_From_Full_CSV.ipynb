{
 "cells": [
  {
   "cell_type": "markdown",
   "metadata": {},
   "source": [
    "# 🌟 Extract Supernovae from Full TNS Object CSV\n",
    "This notebook loads the full list of TNS objects (from `tns_public_objects.csv`) and filters only the rows where `type` starts with `'SN'`.\n",
    "The filtered supernovae will be saved to a new CSV file `tns_supernovae_only.csv`."
   ]
  },
  {
   "cell_type": "code",
   "execution_count": 4,
   "metadata": {},
   "outputs": [],
   "source": [
    "import pandas as pd\n",
    "from pathlib import Path"
   ]
  },
  {
   "cell_type": "code",
   "execution_count": 14,
   "metadata": {},
   "outputs": [
    {
     "name": "stdout",
     "output_type": "stream",
     "text": [
      "Total objects loaded: 162447\n",
      "Supernovae extracted: 16345\n",
      "✅ Saved to tns_supernovae_only.csv\n"
     ]
    }
   ],
   "source": [
    "# === Load full TNS object list ===\n",
    "input_path = Path('tns_public_objects.csv')\n",
    "df = pd.read_csv(input_path)\n",
    "print(f\"Total objects loaded: {len(df)}\")\n",
    "\n",
    "\n",
    "sn_df = df[df['type'].astype(str).str.startswith('SN')].copy()\n",
    "print(f\"Supernovae extracted: {len(sn_df)}\")\n",
    "\n",
    "# === Save result ===\n",
    "output_path = Path('tns_supernovae_only.csv')\n",
    "sn_df.to_csv(output_path, index=False)\n",
    "print(f\"✅ Saved to {output_path}\")"
   ]
  },
  {
   "cell_type": "code",
   "execution_count": 15,
   "metadata": {},
   "outputs": [
    {
     "name": "stdout",
     "output_type": "stream",
     "text": [
      "<bound method Series.unique of 0          SN II\n",
      "17         SN Ia\n",
      "54        SN IIn\n",
      "77         SN Ia\n",
      "116        SN Ia\n",
      "           ...  \n",
      "162442     SN II\n",
      "162443     SN II\n",
      "162444    SN IIn\n",
      "162445    SN IIP\n",
      "162446    SN IIP\n",
      "Name: type, Length: 16345, dtype: object>\n"
     ]
    }
   ],
   "source": [
    "print(sn_df[\"type\"].unique)"
   ]
  }
 ],
 "metadata": {
  "kernelspec": {
   "display_name": "MLDL",
   "language": "python",
   "name": "python3"
  },
  "language_info": {
   "codemirror_mode": {
    "name": "ipython",
    "version": 3
   },
   "file_extension": ".py",
   "mimetype": "text/x-python",
   "name": "python",
   "nbconvert_exporter": "python",
   "pygments_lexer": "ipython3",
   "version": "3.10.16"
  }
 },
 "nbformat": 4,
 "nbformat_minor": 2
}
