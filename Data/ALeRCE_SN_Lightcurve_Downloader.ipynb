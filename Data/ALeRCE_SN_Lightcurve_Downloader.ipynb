{
 "cells": [
  {
   "cell_type": "markdown",
   "metadata": {},
   "source": [
    "# 🌟 ZTF Lightcurve Downloader via ALeRCE API\n",
    "该 notebook 会：\n",
    "1. 从 `tns_search.csv` 中提取 ZTF objectId\n",
    "2. 通过 ALeRCE Python SDK 下载 g/r 波段光变曲线\n",
    "3. 保存每个超新星到独立文件夹，包含：g.csv、r.csv、label.txt"
   ]
  },
  {
   "cell_type": "code",
   "execution_count": null,
   "metadata": {},
   "outputs": [],
   "source": [
    "# 如未安装，请先执行：\n",
    "# pip install alerce pandas"
   ]
  },
  {
   "cell_type": "code",
   "execution_count": 5,
   "metadata": {},
   "outputs": [],
   "source": [
    "import pandas as pd\n",
    "from pathlib import Path\n",
    "from alerce.core import Alerce\n",
    "import time"
   ]
  },
  {
   "cell_type": "code",
   "execution_count": 2,
   "metadata": {},
   "outputs": [],
   "source": [
    "def extract_ztf(internal_names):\n",
    "    try:\n",
    "        parts = [x.strip() for x in internal_names.split(',')]\n",
    "        return next((name for name in parts if name.startswith('ZTF')), None)\n",
    "    except:\n",
    "        return None"
   ]
  },
  {
   "cell_type": "code",
   "execution_count": 3,
   "metadata": {},
   "outputs": [
    {
     "data": {
      "application/vnd.microsoft.datawrangler.viewer.v0+json": {
       "columns": [
        {
         "name": "index",
         "rawType": "int64",
         "type": "integer"
        },
        {
         "name": "objectId",
         "rawType": "object",
         "type": "string"
        },
        {
         "name": "type",
         "rawType": "object",
         "type": "string"
        },
        {
         "name": "redshift",
         "rawType": "float64",
         "type": "float"
        }
       ],
       "conversionMethod": "pd.DataFrame",
       "ref": "04f04c81-5061-41a7-a855-530f812d2087",
       "rows": [
        [
         "0",
         "ZTF25aafihgk",
         "SN II",
         "0.13"
        ],
        [
         "1",
         "ZTF21acgylcq",
         "SN Ia",
         "0.1367"
        ],
        [
         "2",
         "ZTF25aanhiwe",
         "SN Ia",
         "0.092"
        ],
        [
         "3",
         "ZTF25aankqhe",
         "SN Ia",
         "0.052"
        ],
        [
         "4",
         "ZTF25aamrath",
         "SN Ia",
         "0.049751"
        ]
       ],
       "shape": {
        "columns": 3,
        "rows": 5
       }
      },
      "text/html": [
       "<div>\n",
       "<style scoped>\n",
       "    .dataframe tbody tr th:only-of-type {\n",
       "        vertical-align: middle;\n",
       "    }\n",
       "\n",
       "    .dataframe tbody tr th {\n",
       "        vertical-align: top;\n",
       "    }\n",
       "\n",
       "    .dataframe thead th {\n",
       "        text-align: right;\n",
       "    }\n",
       "</style>\n",
       "<table border=\"1\" class=\"dataframe\">\n",
       "  <thead>\n",
       "    <tr style=\"text-align: right;\">\n",
       "      <th></th>\n",
       "      <th>objectId</th>\n",
       "      <th>type</th>\n",
       "      <th>redshift</th>\n",
       "    </tr>\n",
       "  </thead>\n",
       "  <tbody>\n",
       "    <tr>\n",
       "      <th>0</th>\n",
       "      <td>ZTF25aafihgk</td>\n",
       "      <td>SN II</td>\n",
       "      <td>0.130000</td>\n",
       "    </tr>\n",
       "    <tr>\n",
       "      <th>1</th>\n",
       "      <td>ZTF21acgylcq</td>\n",
       "      <td>SN Ia</td>\n",
       "      <td>0.136700</td>\n",
       "    </tr>\n",
       "    <tr>\n",
       "      <th>2</th>\n",
       "      <td>ZTF25aanhiwe</td>\n",
       "      <td>SN Ia</td>\n",
       "      <td>0.092000</td>\n",
       "    </tr>\n",
       "    <tr>\n",
       "      <th>3</th>\n",
       "      <td>ZTF25aankqhe</td>\n",
       "      <td>SN Ia</td>\n",
       "      <td>0.052000</td>\n",
       "    </tr>\n",
       "    <tr>\n",
       "      <th>4</th>\n",
       "      <td>ZTF25aamrath</td>\n",
       "      <td>SN Ia</td>\n",
       "      <td>0.049751</td>\n",
       "    </tr>\n",
       "  </tbody>\n",
       "</table>\n",
       "</div>"
      ],
      "text/plain": [
       "       objectId   type  redshift\n",
       "0  ZTF25aafihgk  SN II  0.130000\n",
       "1  ZTF21acgylcq  SN Ia  0.136700\n",
       "2  ZTF25aanhiwe  SN Ia  0.092000\n",
       "3  ZTF25aankqhe  SN Ia  0.052000\n",
       "4  ZTF25aamrath  SN Ia  0.049751"
      ]
     },
     "execution_count": 3,
     "metadata": {},
     "output_type": "execute_result"
    }
   ],
   "source": [
    "# 加载 TNS CSV（请放在 notebook 同一目录）\n",
    "tns_df = pd.read_csv(\"tns_supernovae_only.csv\")\n",
    "ztf_df = tns_df[tns_df[\"internal_names\"].str.contains(\"ZTF\", na=False)].copy()\n",
    "\n",
    "ztf_df['ztf_name'] = ztf_df['internal_names'].apply(extract_ztf)\n",
    "ztf_df = ztf_df[ztf_df['ztf_name'].notnull()].reset_index(drop=True)\n",
    "\n",
    "ztf_df[\"objectId\"] = ztf_df[\"ztf_name\"].str.strip()\n",
    "ztf_df = ztf_df[[\"objectId\", \"type\",\"redshift\"]]\n",
    "ztf_df.head()"
   ]
  },
  {
   "cell_type": "code",
   "execution_count": 4,
   "metadata": {},
   "outputs": [
    {
     "name": "stdout",
     "output_type": "stream",
     "text": [
      "(11734, 3)\n"
     ]
    }
   ],
   "source": [
    "print(ztf_df.shape)"
   ]
  },
  {
   "cell_type": "code",
   "execution_count": 7,
   "metadata": {},
   "outputs": [
    {
     "name": "stdout",
     "output_type": "stream",
     "text": [
      "⚠️ 502 error on ZTF22abmcfrc, retrying (1/3)...\n",
      "⚠️ 502 error on ZTF22abjafpr, retrying (1/3)...\n",
      "⚠️ 502 error on ZTF22abedoyq, retrying (1/3)...\n",
      "⚠️ 502 error on ZTF22abivrnq, retrying (1/3)...\n",
      "⚠️ 502 error on ZTF20abxrsjb, retrying (1/3)...\n",
      "⚠️ 502 error on ZTF20abuojuw, retrying (1/3)...\n",
      "⚠️ 502 error on ZTF20abliiex, retrying (1/3)...\n",
      "⚠️ 502 error on ZTF20abkacis, retrying (1/3)...\n",
      "⚠️ 502 error on ZTF20abpscln, retrying (1/3)...\n",
      "⚠️ 502 error on ZTF19aawafvn, retrying (1/3)...\n",
      "⚠️ 502 error on ZTF19aayjhpg, retrying (1/3)...\n",
      "⚠️ 502 error on ZTF19aavxpbx, retrying (1/3)...\n",
      "⚠️ 502 error on ZTF19aakzwao, retrying (1/3)...\n",
      "⚠️ 502 error on ZTF19aafnend, retrying (1/3)...\n",
      "⚠️ 502 error on ZTF19aakoese, retrying (1/3)...\n"
     ]
    }
   ],
   "source": [
    "alerce = Alerce()\n",
    "root = Path(\"./ZTF_SN_Data\")\n",
    "root.mkdir(exist_ok=True)\n",
    "\n",
    "fid_map = {1: \"g\", 2: \"r\", 3: \"i\"}\n",
    "\n",
    "E404=[]\n",
    "E502=[]\n",
    "Eel=[]\n",
    "\n",
    "# def robust_query(oid, retries=3, delay=1):\n",
    "#     for i in range(retries):\n",
    "#         try:\n",
    "#             return alerce.query_lightcurve(oid, format=\"json\")\n",
    "#         except Exception as e:\n",
    "#             if \"404\" in str(e):\n",
    "#                 print(f\"⚠️ No data for {oid} (404 Not Found)\")\n",
    "#                 return None\n",
    "#             elif \"502\" in str(e):\n",
    "#                 print(f\"⚠️ 502 error on {oid}, retrying ({i+1}/{retries})...\")\n",
    "#                 time.sleep(delay)\n",
    "#             else:\n",
    "#                 print(f\"❌ Unexpected error on {oid}:\", e)\n",
    "#                 return None\n",
    "#     print(f\"❌ Failed after retries: {oid}\")\n",
    "#     return None\n",
    "\n",
    "for _, row in ztf_df.iterrows():\n",
    "    oid = row['objectId']\n",
    "    sn_type = row['type']\n",
    "    redshift = row.get(\"redshift\", \"unknown\")\n",
    "\n",
    "    for i in range(3):\n",
    "        try:\n",
    "            lc_data = alerce.query_lightcurve(oid, format=\"json\")\n",
    "            detections = lc_data.get(\"detections\", [])\n",
    "\n",
    "            if not detections:\n",
    "                print(f\"⚠️ {oid} has no detections.\")\n",
    "                continue\n",
    "\n",
    "            df = pd.DataFrame(detections)\n",
    "\n",
    "            required_columns = [\"mjd\", \"magpsf\", \"sigmapsf\", \"fid\", \"rb\"]\n",
    "            if not all(col in df.columns for col in required_columns):\n",
    "                print(f\"❌ {oid} missing one or more expected columns: {df.columns}\")\n",
    "                continue\n",
    "\n",
    "            # 添加 filter 字符串列\n",
    "            # df[\"filter\"] = df[\"fid\"].map(fid_map)\n",
    "\n",
    "            # 确认包含 mjd 字段\n",
    "            columns_to_save = [\"mjd\", \"magpsf\", \"sigmapsf\", \"rb\"]\n",
    "\n",
    "\n",
    "\n",
    "            g_df = df[df[\"fid\"] == 1][columns_to_save]\n",
    "            r_df = df[df[\"fid\"] == 2][columns_to_save]\n",
    "            i_df = df[df[\"fid\"] == 3][columns_to_save]\n",
    "\n",
    "            folder = root / oid\n",
    "            folder.mkdir(exist_ok=True)\n",
    "\n",
    "            g_df.to_csv(folder / f\"{oid}_g.csv\", index=False)\n",
    "            r_df.to_csv(folder / f\"{oid}_r.csv\", index=False)\n",
    "            i_df.to_csv(folder / f\"{oid}_i.csv\", index=False)\n",
    "\n",
    "            with open(folder / \"label.txt\", \"w\") as f:\n",
    "                f.write(f\"Type: {sn_type}\\n\")\n",
    "                f.write(f\"Redshift: {redshift}\\n\")\n",
    "            \n",
    "            break\n",
    "            # print(f\"✅ Saved: {oid}\")\n",
    "        except Exception as e:\n",
    "            if \"404\" in str(e):\n",
    "                # print(f\"⚠️ No data for {oid} (404 Not Found)\")\n",
    "                E404.append(oid)\n",
    "                break\n",
    "            elif \"502\" in str(e):\n",
    "                print(f\"⚠️ 502 error on {oid}, retrying ({i+1}/{3})...\")\n",
    "                E502.append(oid)\n",
    "                time.sleep(1)\n",
    "            else:\n",
    "                print(f\"❌ Unexpected error on {oid}:\", e)\n",
    "                Eel.append(oid)\n",
    "                break\n",
    "\n"
   ]
  },
  {
   "cell_type": "code",
   "execution_count": 17,
   "metadata": {},
   "outputs": [
    {
     "name": "stdout",
     "output_type": "stream",
     "text": [
      "[{'tid': 'ztf', 'mjd': 60773.17151620006, 'candid': '3019171514015015005', 'fid': 1, 'pid': 3019171514015, 'diffmaglim': 19.437658, 'isdiffpos': 1, 'nid': 3019, 'distnr': 3.2086563, 'magpsf': 18.774733, 'magpsf_corr': None, 'magpsf_corr_ext': None, 'magap': 18.6821, 'magap_corr': None, 'sigmapsf': 0.1486874, 'sigmapsf_corr': None, 'sigmapsf_corr_ext': None, 'sigmagap': 0.2197, 'sigmagap_corr': None, 'ra': 128.0450585, 'dec': 27.4412943, 'rb': 0.9071429, 'rbversion': 't17_f5_c3', 'drb': 0.9992175, 'magapbig': 18.6288, 'sigmagapbig': 0.2682, 'rfid': 617120140, 'has_stamp': True, 'corrected': False, 'dubious': False, 'candid_alert': None, 'step_id_corr': '27.5.4', 'phase': 0.0, 'parent_candid': None}, {'tid': 'ztf', 'mjd': 60775.17874999996, 'candid': '3021178744015015012', 'fid': 2, 'pid': 3021178744015, 'diffmaglim': 19.858105, 'isdiffpos': 1, 'nid': 3021, 'distnr': 3.2516096, 'magpsf': 18.98995, 'magpsf_corr': None, 'magpsf_corr_ext': None, 'magap': 19.1147, 'magap_corr': None, 'sigmapsf': 0.09817717, 'sigmapsf_corr': None, 'sigmapsf_corr_ext': None, 'sigmagap': 0.2273, 'sigmagap_corr': None, 'ra': 128.0449964, 'dec': 27.4413054, 'rb': 0.8685714, 'rbversion': 't17_f5_c3', 'drb': 0.00246815, 'magapbig': 19.5069, 'sigmagapbig': 0.4163, 'rfid': 617120240, 'has_stamp': True, 'corrected': False, 'dubious': False, 'candid_alert': None, 'step_id_corr': '27.5.4', 'phase': 0.0, 'parent_candid': None}, {'tid': 'ztf', 'mjd': 60775.22670139978, 'candid': '3021226704015015009', 'fid': 1, 'pid': 3021226704015, 'diffmaglim': 19.43733, 'isdiffpos': 1, 'nid': 3021, 'distnr': 3.0660434, 'magpsf': 18.681774, 'magpsf_corr': None, 'magpsf_corr_ext': None, 'magap': 18.7738, 'magap_corr': None, 'sigmapsf': 0.12562956, 'sigmapsf_corr': None, 'sigmapsf_corr_ext': None, 'sigmagap': 0.2137, 'sigmagap_corr': None, 'ra': 128.045018, 'dec': 27.4413144, 'rb': 0.95285714, 'rbversion': 't17_f5_c3', 'drb': 0.99986565, 'magapbig': 18.6929, 'sigmagapbig': 0.2544, 'rfid': 617120140, 'has_stamp': True, 'corrected': False, 'dubious': False, 'candid_alert': None, 'step_id_corr': '27.5.4', 'phase': 0.0, 'parent_candid': None}, {'tid': 'ztf', 'mjd': 60775.22670139978, 'candid': '3021226704015025009', 'fid': 1, 'pid': 3021226704015, 'diffmaglim': 19.4373, 'isdiffpos': 1, 'nid': 3021, 'distnr': 3.06604, 'magpsf': 18.6818, 'magpsf_corr': None, 'magpsf_corr_ext': None, 'magap': 18.7738, 'magap_corr': None, 'sigmapsf': 0.12563, 'sigmapsf_corr': None, 'sigmapsf_corr_ext': None, 'sigmagap': 0.2137, 'sigmagap_corr': None, 'ra': 128.045018, 'dec': 27.4413144, 'rb': 0.952857, 'rbversion': 't17_f5_c3', 'drb': None, 'magapbig': 18.6929, 'sigmagapbig': 0.2544, 'rfid': None, 'has_stamp': False, 'corrected': False, 'dubious': False, 'candid_alert': None, 'step_id_corr': '27.5.6', 'phase': 0.0, 'parent_candid': 3031215544015015014}, {'tid': 'ztf', 'mjd': 60780.245752300136, 'candid': '3026245754015015005', 'fid': 1, 'pid': 3026245754015, 'diffmaglim': 19.571842, 'isdiffpos': 1, 'nid': 3026, 'distnr': 2.706365, 'magpsf': 18.7112, 'magpsf_corr': None, 'magpsf_corr_ext': None, 'magap': 18.8364, 'magap_corr': None, 'sigmapsf': 0.11241813, 'sigmapsf_corr': None, 'sigmapsf_corr_ext': None, 'sigmagap': 0.1802, 'sigmagap_corr': None, 'ra': 128.0449107, 'dec': 27.4413491, 'rb': 0.95285714, 'rbversion': 't17_f5_c3', 'drb': 0.9999998, 'magapbig': 19.028, 'sigmagapbig': 0.275, 'rfid': 617120140, 'has_stamp': True, 'corrected': False, 'dubious': False, 'candid_alert': None, 'step_id_corr': '27.5.6', 'phase': 0.0, 'parent_candid': None}, {'tid': 'ztf', 'mjd': 60780.2885532002, 'candid': '3026288554015015010', 'fid': 2, 'pid': 3026288554015, 'diffmaglim': 19.334602, 'isdiffpos': 1, 'nid': 3026, 'distnr': 3.2253957, 'magpsf': 18.809855, 'magpsf_corr': None, 'magpsf_corr_ext': None, 'magap': 18.7452, 'magap_corr': None, 'sigmapsf': 0.120024756, 'sigmapsf_corr': None, 'sigmapsf_corr_ext': None, 'sigmagap': 0.1786, 'sigmagap_corr': None, 'ra': 128.0449749, 'dec': 27.4412741, 'rb': 0.7885714, 'rbversion': 't17_f5_c3', 'drb': 0.9994655, 'magapbig': 18.6597, 'sigmagapbig': 0.211, 'rfid': 617120240, 'has_stamp': True, 'corrected': False, 'dubious': False, 'candid_alert': None, 'step_id_corr': '27.5.6', 'phase': 0.0, 'parent_candid': None}, {'tid': 'ztf', 'mjd': 60785.17995369993, 'candid': '3031179954015015010', 'fid': 1, 'pid': 3031179954015, 'diffmaglim': 20.35237, 'isdiffpos': 1, 'nid': 3031, 'distnr': 3.0679312, 'magpsf': 19.039913, 'magpsf_corr': None, 'magpsf_corr_ext': None, 'magap': 19.0225, 'magap_corr': None, 'sigmapsf': 0.10786417, 'sigmapsf_corr': None, 'sigmapsf_corr_ext': None, 'sigmagap': 0.1143, 'sigmagap_corr': None, 'ra': 128.0450032, 'dec': 27.4412768, 'rb': 0.94142854, 'rbversion': 't17_f5_c3', 'drb': 0.9999697, 'magapbig': 18.9769, 'sigmagapbig': 0.1388, 'rfid': 617120140, 'has_stamp': True, 'corrected': False, 'dubious': False, 'candid_alert': None, 'step_id_corr': '27.5.6', 'phase': 0.0, 'parent_candid': None}, {'tid': 'ztf', 'mjd': 60785.2155439998, 'candid': '3031215544015015014', 'fid': 2, 'pid': 3031215544015, 'diffmaglim': 20.408588, 'isdiffpos': 1, 'nid': 3031, 'distnr': 3.2100499, 'magpsf': 19.037476, 'magpsf_corr': None, 'magpsf_corr_ext': None, 'magap': 19.0647, 'magap_corr': None, 'sigmapsf': 0.08332126, 'sigmapsf_corr': None, 'sigmapsf_corr_ext': None, 'sigmagap': 0.1275, 'sigmagap_corr': None, 'ra': 128.0449795, 'dec': 27.4412932, 'rb': 0.95285714, 'rbversion': 't17_f5_c3', 'drb': 0.00125438, 'magapbig': 18.9455, 'sigmagapbig': 0.1443, 'rfid': 617120240, 'has_stamp': True, 'corrected': False, 'dubious': False, 'candid_alert': None, 'step_id_corr': '27.5.6', 'phase': 0.0, 'parent_candid': None}]\n"
     ]
    }
   ],
   "source": [
    "lc_data = alerce.query_lightcurve(\"ZTF25aalyccn\", format=\"json\")\n",
    "detections = lc_data.get(\"detections\", [])\n",
    "print(detections)"
   ]
  },
  {
   "cell_type": "code",
   "execution_count": 9,
   "metadata": {},
   "outputs": [
    {
     "name": "stdout",
     "output_type": "stream",
     "text": [
      "列表已写入文件。\n"
     ]
    }
   ],
   "source": [
    "with open(\"Error 404.txt\", \"w\") as f:\n",
    "    for item in E404:\n",
    "        f.write(item + \"\\n\")\n",
    "print(\"列表已写入文件。\")"
   ]
  },
  {
   "cell_type": "code",
   "execution_count": 10,
   "metadata": {},
   "outputs": [
    {
     "name": "stdout",
     "output_type": "stream",
     "text": [
      "Error 404: 101\n"
     ]
    }
   ],
   "source": [
    "print(\"Error 404:\", len(E404))"
   ]
  }
 ],
 "metadata": {
  "kernelspec": {
   "display_name": "MLDL",
   "language": "python",
   "name": "python3"
  },
  "language_info": {
   "codemirror_mode": {
    "name": "ipython",
    "version": 3
   },
   "file_extension": ".py",
   "mimetype": "text/x-python",
   "name": "python",
   "nbconvert_exporter": "python",
   "pygments_lexer": "ipython3",
   "version": "3.10.16"
  }
 },
 "nbformat": 4,
 "nbformat_minor": 2
}
