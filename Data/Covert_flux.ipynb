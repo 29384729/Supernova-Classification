{
 "cells": [
  {
   "cell_type": "code",
   "execution_count": 1,
   "id": "162f5e0a",
   "metadata": {},
   "outputs": [
    {
     "name": "stdout",
     "output_type": "stream",
     "text": [
      "✅ 完成！所有数据已转换为SNANA flux格式并保存到 ZTF_SN_FLUX/\n"
     ]
    }
   ],
   "source": [
    "import os\n",
    "import pandas as pd\n",
    "import numpy as np\n",
    "\n",
    "# 配置\n",
    "input_base_dir = r'ZTF_SN_Data'\n",
    "output_base_dir = r'ZTF_SN_FLUX'\n",
    "os.makedirs(output_base_dir, exist_ok=True)\n",
    "\n",
    "def mag_to_snana_flux(mag, mag_err=None):\n",
    "    \"\"\"将mag转换为SNANA标准定义的flux和flux_err\"\"\"\n",
    "    alpha = 4 * np.log(10)  # 9.21034\n",
    "    flux = 10**(-0.4 * mag + 11)\n",
    "\n",
    "    if mag_err is not None:\n",
    "        flux_err = 10**10 * alpha * mag_err * np.exp(-alpha * mag / 10)\n",
    "        return flux, flux_err\n",
    "    else:\n",
    "        return flux\n",
    "\n",
    "# 遍历所有源\n",
    "for source_id in os.listdir(input_base_dir):\n",
    "    source_path = os.path.join(input_base_dir, source_id)\n",
    "    if os.path.isdir(source_path):\n",
    "        # 创建对应的新目录\n",
    "        output_source_path = os.path.join(output_base_dir, source_id)\n",
    "        os.makedirs(output_source_path, exist_ok=True)\n",
    "\n",
    "        for file_name in os.listdir(source_path):\n",
    "            input_file = os.path.join(source_path, file_name)\n",
    "            output_file = os.path.join(output_source_path, file_name)\n",
    "\n",
    "            # 只处理csv文件（g、r、i波段的光变数据）\n",
    "            if file_name.endswith('.csv'):\n",
    "                try:\n",
    "                    df = pd.read_csv(input_file)\n",
    "\n",
    "                    if df.shape[1] >= 3:\n",
    "                        # 假设第1列是时间，第2列是mag，第3列是mag_err\n",
    "                        time_col = df.iloc[:, 0]\n",
    "                        mag_col = df.iloc[:, 1]\n",
    "                        mag_err_col = df.iloc[:, 2]\n",
    "\n",
    "                        flux_col, flux_err_col = mag_to_snana_flux(mag_col, mag_err_col)\n",
    "\n",
    "                        # 保持其他列不变，只替换第2列、第3列\n",
    "                        df.iloc[:, 1] = flux_col\n",
    "                        df.iloc[:, 2] = flux_err_col\n",
    "\n",
    "                        df.to_csv(output_file, index=False)\n",
    "                    else:\n",
    "                        # 少于3列的直接原样拷贝\n",
    "                        df.to_csv(output_file, index=False)\n",
    "\n",
    "                except Exception as e:\n",
    "                    print(f\"Error processing {input_file}: {e}\")\n",
    "\n",
    "            else:\n",
    "                # 其他文件（比如label.txt等），直接拷贝\n",
    "                try:\n",
    "                    with open(input_file, 'rb') as f_in:\n",
    "                        with open(output_file, 'wb') as f_out:\n",
    "                            f_out.write(f_in.read())\n",
    "                except Exception as e:\n",
    "                    print(f\"Error copying {input_file}: {e}\")\n",
    "\n",
    "print(\"✅ 完成！所有数据已转换为SNANA flux格式并保存到 ZTF_SN_FLUX/\")\n"
   ]
  }
 ],
 "metadata": {
  "kernelspec": {
   "display_name": "MLDL",
   "language": "python",
   "name": "python3"
  },
  "language_info": {
   "codemirror_mode": {
    "name": "ipython",
    "version": 3
   },
   "file_extension": ".py",
   "mimetype": "text/x-python",
   "name": "python",
   "nbconvert_exporter": "python",
   "pygments_lexer": "ipython3",
   "version": "3.10.16"
  }
 },
 "nbformat": 4,
 "nbformat_minor": 5
}
